{
 "cells": [
  {
   "metadata": {
    "ExecuteTime": {
     "end_time": "2025-05-14T14:52:30.965973Z",
     "start_time": "2025-05-14T14:52:21.417994Z"
    }
   },
   "cell_type": "code",
   "source": [
    "# dataset.py\n",
    "import os\n",
    "import pandas as pd\n",
    "from PIL import Image\n",
    "import torch\n",
    "from torch.utils.data import Dataset\n",
    "import torchvision.transforms as T\n",
    "\n",
    "class ChocoDataset(Dataset):\n",
    "    def __init__(self, csv_file, img_dir, transform=None):\n",
    "        self.labels_df = pd.read_csv(csv_file)\n",
    "        self.img_dir = img_dir\n",
    "        self.transform = transform or T.Compose([\n",
    "            T.Resize((224, 224)),\n",
    "            T.ToTensor()\n",
    "        ])\n",
    "        self.image_ids = self.labels_df['id'].astype(str)\n",
    "        self.labels = self.labels_df.drop(columns=['id']).values.astype(float)\n",
    "\n",
    "    def __len__(self):\n",
    "        return len(self.image_ids)\n",
    "\n",
    "    def __getitem__(self, idx):\n",
    "        img_id = self.image_ids.iloc[idx]\n",
    "        img_path = os.path.join(self.img_dir, f\"L{img_id}.JPG\")\n",
    "        image = Image.open(img_path).convert(\"RGB\")\n",
    "        image = self.transform(image)\n",
    "        label = torch.tensor(self.labels[idx], dtype=torch.float32)\n",
    "        return image, label\n"
   ],
   "id": "4968d82b0ec031f9",
   "outputs": [],
   "execution_count": 1
  },
  {
   "metadata": {
    "ExecuteTime": {
     "end_time": "2025-05-14T14:52:35.266086Z",
     "start_time": "2025-05-14T14:52:35.254679Z"
    }
   },
   "cell_type": "code",
   "source": [
    "# model.py\n",
    "import torch.nn as nn\n",
    "import torchvision.models as models\n",
    "\n",
    "class ChocoNet(nn.Module):\n",
    "    def __init__(self, num_classes=13):\n",
    "        super().__init__()\n",
    "        self.backbone = models.resnet18(pretrained=False)\n",
    "        self.backbone.fc = nn.Sequential(\n",
    "            nn.Linear(512, 128),\n",
    "            nn.ReLU(),\n",
    "            nn.Linear(128, num_classes),\n",
    "            nn.ReLU()  # 保证非负输出\n",
    "        )\n",
    "\n",
    "    def forward(self, x):\n",
    "        return self.backbone(x)\n"
   ],
   "id": "f3d95d1c665bc471",
   "outputs": [],
   "execution_count": 2
  },
  {
   "metadata": {},
   "cell_type": "code",
   "outputs": [],
   "execution_count": null,
   "source": [
    "# train.py\n",
    "import torch\n",
    "from torch.utils.data import DataLoader\n",
    "from torch.optim import Adam\n",
    "from dataset import ChocoDataset\n",
    "from model import ChocoNet\n",
    "import os\n",
    "\n",
    "# 设置路径\n",
    "csv_path = 'dataset_project_iapr2025/train/train.csv'\n",
    "img_dir = 'dataset_project_iapr2025/train/'\n",
    "\n",
    "# 数据加载\n",
    "dataset = ChocoDataset(csv_file=csv_path, img_dir=img_dir)\n",
    "dataloader = DataLoader(dataset, batch_size=8, shuffle=True)\n",
    "\n",
    "# 模型初始化\n",
    "device = torch.device(\"cuda\" if torch.cuda.is_available() else \"cpu\")\n",
    "model = ChocoNet(num_classes=13).to(device)\n",
    "\n",
    "# 损失函数 & 优化器\n",
    "criterion = torch.nn.MSELoss()\n",
    "optimizer = Adam(model.parameters(), lr=1e-3)\n",
    "\n",
    "# 训练过程\n",
    "epochs = 30\n",
    "for epoch in range(epochs):\n",
    "    model.train()\n",
    "    total_loss = 0\n",
    "    for images, labels in dataloader:\n",
    "        images, labels = images.to(device), labels.to(device)\n",
    "\n",
    "        preds = model(images)\n",
    "        loss = criterion(preds, labels)\n",
    "\n",
    "        optimizer.zero_grad()\n",
    "        loss.backward()\n",
    "        optimizer.step()\n",
    "\n",
    "        total_loss += loss.item()\n",
    "\n",
    "    print(f\"Epoch {epoch+1}/{epochs} - Loss: {total_loss/len(dataloader):.4f}\")\n",
    "\n",
    "# 保存模型\n",
    "os.makedirs('weights', exist_ok=True)\n",
    "torch.save(model.state_dict(), 'weights/choco_model.pth')\n"
   ],
   "id": "1c10422e97c695c9"
  }
 ],
 "metadata": {
  "kernelspec": {
   "display_name": "Python 3",
   "language": "python",
   "name": "python3"
  },
  "language_info": {
   "codemirror_mode": {
    "name": "ipython",
    "version": 2
   },
   "file_extension": ".py",
   "mimetype": "text/x-python",
   "name": "python",
   "nbconvert_exporter": "python",
   "pygments_lexer": "ipython2",
   "version": "2.7.6"
  }
 },
 "nbformat": 4,
 "nbformat_minor": 5
}
