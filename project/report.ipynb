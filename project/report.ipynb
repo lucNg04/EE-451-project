{
 "cells": [
  {
   "cell_type": "markdown",
   "id": "5f23e1c5",
   "metadata": {},
   "source": [
    "# [IAPR][iapr]: Final project - Chocolate Recognition\n",
    "\n",
    "\n",
    "**Moodle group ID:** 19  \n",
    "**Kaggle challenge:** *xx* (either `Classic` or `Deep learning`)  \n",
    "**Kaggle team name (exact):** \"*xx*\"  \n",
    "\n",
    "**Author 1 (SCIPER):** *Student Name 1 (xxxxx)*  \n",
    "**Author 2 (SCIPER):** *Student Name 2 (xxxxx)*  \n",
    "**Author 3 (SCIPER):** *Student Name 3 (xxxxx)*  \n",
    "\n",
    "**Due date:** 21.05.2025 (11:59 pm)\n",
    "\n",
    "\n",
    "## Key Submission Guidelines:\n",
    "- **Before submitting your notebook, <span style=\"color:red;\">rerun</span> it from scratch!** Go to: `Kernel` > `Restart & Run All`\n",
    "- **Only groups of three will be accepted**, except in exceptional circumstances.\n",
    "\n",
    "\n",
    "[iapr]: https://github.com/LTS5/iapr2025\n",
    "\n",
    "---"
   ]
  },
  {
   "cell_type": "markdown",
   "id": "2162aed6",
   "metadata": {},
   "source": [
    "> Your comments  \n",
    "> ..."
   ]
  },
  {
   "cell_type": "code",
   "id": "b616e563",
   "metadata": {
    "ExecuteTime": {
     "end_time": "2025-05-16T13:56:59.486098Z",
     "start_time": "2025-05-16T13:56:55.636061Z"
    }
   },
   "source": [
    "## YOUR CODE\n",
    "import torch\n",
    "print(torch.cuda.is_available())"
   ],
   "outputs": [
    {
     "name": "stdout",
     "output_type": "stream",
     "text": [
      "True\n"
     ]
    }
   ],
   "execution_count": 1
  },
  {
   "metadata": {
    "ExecuteTime": {
     "end_time": "2025-05-16T13:45:02.482824Z",
     "start_time": "2025-05-16T13:45:02.478308Z"
    }
   },
   "cell_type": "code",
   "source": "",
   "id": "f36fa4a800e0d4b5",
   "outputs": [],
   "execution_count": 3
  },
  {
   "metadata": {},
   "cell_type": "code",
   "outputs": [],
   "execution_count": null,
   "source": "",
   "id": "3979d971e9432c50"
  }
 ],
 "metadata": {
  "language_info": {
   "name": "python"
  },
  "kernelspec": {
   "name": "python3",
   "language": "python",
   "display_name": "Python 3 (ipykernel)"
  }
 },
 "nbformat": 4,
 "nbformat_minor": 5
}
