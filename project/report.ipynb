{
 "cells": [
  {
   "cell_type": "markdown",
   "id": "5f23e1c5",
   "metadata": {},
   "source": [
    "# [IAPR][iapr]: Final project - Chocolate Recognition\n",
    "\n",
    "\n",
    "**Moodle group ID:** 19  \n",
    "**Kaggle challenge:** *xx* (either `Classic` or `Deep learning`)  \n",
    "**Kaggle team name (exact):** \"*xx*\"  \n",
    "\n",
    "**Author 1 (SCIPER):** *Student Name 1 (xxxxx)*  \n",
    "**Author 2 (SCIPER):** *Student Name 2 (xxxxx)*  \n",
    "**Author 3 (SCIPER):** *Student Name 3 (xxxxx)*  \n",
    "\n",
    "**Due date:** 21.05.2025 (11:59 pm)\n",
    "\n",
    "\n",
    "## Key Submission Guidelines:\n",
    "- **Before submitting your notebook, <span style=\"color:red;\">rerun</span> it from scratch!** Go to: `Kernel` > `Restart & Run All`\n",
    "- **Only groups of three will be accepted**, except in exceptional circumstances.\n",
    "\n",
    "\n",
    "[iapr]: https://github.com/LTS5/iapr2025\n",
    "\n",
    "---"
   ]
  },
  {
   "cell_type": "markdown",
   "id": "2162aed6",
   "metadata": {},
   "source": [
    "> Your comments  \n",
    "> ..."
   ]
  },
  {
   "cell_type": "code",
   "id": "b616e563",
   "metadata": {
    "ExecuteTime": {
     "end_time": "2025-05-04T11:51:34.540210Z",
     "start_time": "2025-05-04T11:51:32.217628Z"
    }
   },
   "source": [
    "## YOUR CODE\n",
    "..."
   ],
   "outputs": [],
   "execution_count": 1
  }
 ],
 "metadata": {
  "language_info": {
   "name": "python"
  },
  "kernelspec": {
   "name": "python3",
   "language": "python",
   "display_name": "Python 3 (ipykernel)"
  }
 },
 "nbformat": 4,
 "nbformat_minor": 5
}
